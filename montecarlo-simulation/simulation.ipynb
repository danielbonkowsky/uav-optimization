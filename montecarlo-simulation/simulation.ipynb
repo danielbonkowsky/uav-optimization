{
 "cells": [
  {
   "cell_type": "code",
   "execution_count": 20,
   "id": "5dafd72a-fb17-4de8-af03-6c150f54a2c2",
   "metadata": {},
   "outputs": [],
   "source": [
    "import random\n",
    "import scipy\n",
    "import numpy as np\n",
    "import matplotlib.pyplot as plt\n",
    "import matplotlib.patches as patches\n",
    "from math import pi, log10, log2, sqrt, cos, sin\n",
    "from scipy.optimize import minimize, minimize_scalar\n",
    "from mpl_toolkits.mplot3d import Axes3D\n",
    "from distributions import southernUtah, saltLakeCity, sanDiego, twinCities, oneFarOneClose\n",
    "from sca import sca_optimize_uav_circle\n",
    "\n",
    "seed = 324\n",
    "random.seed(seed)\n",
    "np.random.seed(seed)\n",
    "rng = np.random.default_rng(seed)\n"
   ]
  },
  {
   "cell_type": "markdown",
   "id": "204fc9a6-7d5f-4747-a723-564f1952e00d",
   "metadata": {},
   "source": [
    "## Parameters\n",
    "- $r$ = radius of the UAV's flight path\n",
    "    -  $r_\\text{min}$ = minimum radius of the UAV's flight path\n",
    "    -  $r_\\text{max}$ = maximum radius of the UAV's flight path\n",
    "- $D$ = location of user distribution along x-axis\n",
    "- $r_\\text{D}$ = radius of user distribution\n",
    "- $c_\\text{x}$ = x-coordinate of the center point of the UAV's flight path\n",
    "    - $c_\\text{xmin}$ = minimum which $c_\\text{x}$ can take\n",
    "    - $c_\\text{xmax}$ = maximum which $c_\\text{x}$ can take\n",
    "- $c_\\text{y}$ = y-coordinate of the center point of the UAV's flight path\n",
    "    - $c_\\text{ymin}$ = minimum which $c_\\text{y}$ can take\n",
    "    - $c_\\text{ymax}$ = maximum which $c_\\text{y}$ can take\n",
    "- $v$ = speed of the UAV\n",
    "- $T$ = time it takes for the drone to complete one flight circle\n",
    "    - $T_\\text{max}$ = time it takes the drone to complete maximum flight circle\n",
    "- $T_\\text{C}$ = length of each timeslot\n",
    "- $N$ = number of time slots\n",
    "    - $N_\\text{max}$ = number of timeslots in maximum flight circle\n",
    "- $M$ = number of users that the UAV can serve simultaneously\n",
    "- $K$ = total number of users = $M\\cdot N$\n",
    "    - $K_\\text{max}$ = maximum number of users = $M\\cdot N_\\text{max}$\n",
    "- $H$ = height of the UAV's flight path\n",
    "- $P^\\text{A}_\\text{tx}$ = UAV transmission power\n",
    "- $P^\\text{U}_\\text{tx}$ = user transmission power\n",
    "- $G_\\text{T}$ = antenna gain at transmitter\n",
    "- $G_\\text{R}$ = antenna gain at receiver\n",
    "- $B$ = total bandwidth\n",
    "- $N_\\text{0}$ = noise power\n",
    "- $f$ = signal frequency\n",
    "- $\\lambda$ = signal wavelength\n",
    "- $\\mathcal{U}_n$ = the list of user indices served in timeslot $N$"
   ]
  },
  {
   "cell_type": "code",
   "execution_count": 21,
   "id": "0d32248e-1065-4b6c-ad70-90ca96c6644d",
   "metadata": {},
   "outputs": [],
   "source": [
    "r_min = 1000 # meters\n",
    "r_max = 5000 # meters\n",
    "D = 15000 # meters\n",
    "rD = 4000 # meters\n",
    "cx_min = -10000 # meters\n",
    "cx_max = 10000 # meters\n",
    "cy_min = -10000\n",
    "cy_max = 10000\n",
    "v = 50 # meters/second\n",
    "T = (2*pi*r_max)/v # seconds\n",
    "TC = 1 # seconds\n",
    "N = int(T // TC) # time slots\n",
    "M = 2 # users\n",
    "K = N*M # users\n",
    "H = 100 # meters\n",
    "PAtx = 1 # watts\n",
    "PUtx = 0.07 # watts\n",
    "GT = 1\n",
    "GR = 1\n",
    "B = 1e6 # Hz\n",
    "N0 = 10**((7.5-174+10*log10(B))/10)/1000 # watts\n",
    "F = 2e9 # Hz\n",
    "WAVELENGTH = scipy.constants.c / F # meters\n"
   ]
  },
  {
   "cell_type": "markdown",
   "id": "a9e123a0-7f60-4f8d-b323-f9d3e8ac4200",
   "metadata": {},
   "source": [
    "## User Generation\n",
    "Here we define a function to randomly generate users within the deadzone. For the purposes of the simulation, we generate the maximum number of users. Smaller flight paths may not serve every user in one rotation, but the objective is normalized over timeslots."
   ]
  },
  {
   "cell_type": "code",
   "execution_count": 22,
   "id": "2b328cce-feb7-4750-843c-e755bb75aa6f",
   "metadata": {},
   "outputs": [
    {
     "name": "stdout",
     "output_type": "stream",
     "text": [
      "1256\n",
      "1256\n"
     ]
    }
   ],
   "source": [
    "def generate_users(num_users, distribution='uniform'):\n",
    "    users = []\n",
    "    if (distribution == 'uniform'):\n",
    "        for _ in range(num_users):\n",
    "            r = rD * sqrt(random.random())\n",
    "            theta = random.uniform(0, 2*pi)\n",
    "            x = D + r * cos(theta)\n",
    "            y = r * sin(theta)\n",
    "    \n",
    "            users.append((x, y))\n",
    "    elif (distribution == 'skewed-normal'):\n",
    "        x_mean = D + 5000\n",
    "        y_mean = 0\n",
    "        std_dev = 1000\n",
    "        \n",
    "        while (len(users) < num_users):\n",
    "            x = rng.normal(loc=x_mean, scale=std_dev)\n",
    "            y = rng.normal(loc=y_mean, scale=std_dev)\n",
    "\n",
    "            if ((x - D)**2 + y**2 < rD**2):\n",
    "                users.append((x, y))\n",
    "    elif (distribution == 'two-skewed-normal'):\n",
    "        x_mean = D + 5000\n",
    "        y_mean = 0\n",
    "        std_dev = 1000\n",
    "        \n",
    "        while (len(users) < num_users*0.5):\n",
    "            x = rng.normal(loc=x_mean, scale=std_dev)\n",
    "            y = rng.normal(loc=y_mean, scale=std_dev)\n",
    "\n",
    "            if ((x - D)**2 + y**2 < rD**2):\n",
    "                users.append((x, y))\n",
    "        \n",
    "        x_mean = D\n",
    "        y_mean = -5000\n",
    "        std_dev = 1000\n",
    "\n",
    "        while (len(users) < num_users):\n",
    "            x = rng.normal(loc=x_mean, scale=std_dev)\n",
    "            y = rng.normal(loc=y_mean, scale=std_dev)\n",
    "\n",
    "            if ((x - D)**2 + y**2 < rD**2):\n",
    "                users.append((x, y))\n",
    "\n",
    "    elif (distribution == 'one-far-one-close'):\n",
    "        users = oneFarOneClose(num_users)\n",
    "\n",
    "    random.shuffle(users)        \n",
    "    return users\n",
    "\n",
    "users = generate_users(K, distribution='two-skewed-normal')\n",
    "print(len(users))\n",
    "print(K)"
   ]
  },
  {
   "cell_type": "markdown",
   "id": "6252fa85-5b79-43d9-b727-5a4d2a05e333",
   "metadata": {},
   "source": [
    "## Plot Users\n",
    "This code plots the user coordinates to verify that the distribution is working correctly"
   ]
  },
  {
   "cell_type": "code",
   "execution_count": 23,
   "id": "7a912e87-2c8f-4ec1-94b2-5a43cafba703",
   "metadata": {},
   "outputs": [
    {
     "data": {
      "image/png": "[encoded data removed]",
      "text/plain": [
       "<Figure size 640x480 with 1 Axes>"
      ]
     },
     "metadata": {},
     "output_type": "display_data"
    }
   ],
   "source": [
    "xs, ys = zip(*users)\n",
    "plt.scatter(xs, ys, c='b', marker='o', s=5)\n",
    "plt.scatter(0, 0, c='black', marker='2', s=200, label=\"Origin\")\n",
    "ax = plt.gca()  # get current axes\n",
    "circle = patches.Circle((0, 0), radius=2000, fill=False, color='black', linewidth=2)\n",
    "ax.add_patch(circle)\n",
    "plt.grid(True)\n",
    "plt.xlabel(\"x\")\n",
    "plt.ylabel(\"y\")\n",
    "plt.xlim(-10000, 10000)\n",
    "plt.ylim(-10000, 10000)\n",
    "plt.axis(\"equal\")  # equal scaling\n",
    "plt.show()"
   ]
  },
  {
   "cell_type": "markdown",
   "id": "e78f6395-99e8-4176-b4aa-fe655d853a0d",
   "metadata": {},
   "source": [
    "## UAV Trajectory\n",
    "The UAV’s trajectory can be considered a discrete sequence of positions, each one a function of the flight path radius $r$ and the flight path center point $(c_\\text{x}, c_\\text{y}, H)$. If there are $N$ timeslots indexed $0\\dots N-1$, then the UAV’s position during timeslot $n$ is given by \n",
    "$$\\mathbf{w}_n^\\text{A}(r,c_\\text{x}, c_\\text{y}) = \\left[c_\\text{x} + r\\cos\\left(\\frac{2\\pi n}{N}\\right),c_\\text{y}+r\\sin\\left(\\frac{2\\pi n}{N}\\right),H\\right]$$\n"
   ]
  },
  {
   "cell_type": "code",
   "execution_count": 24,
   "id": "33159ecd-5a72-4b4c-bef5-16372920295c",
   "metadata": {},
   "outputs": [],
   "source": [
    "def wA(n, r, cx, cy):\n",
    "    T = (2 * pi * r) / v # period\n",
    "    N = int(T // TC)     # number of timeslots\n",
    "    \n",
    "    x = cx + r*cos( (2*pi*n) / N )\n",
    "    y = cy + r*sin( (2*pi*n) / N )\n",
    "    z = H\n",
    "    return (x, y, z)"
   ]
  },
  {
   "cell_type": "markdown",
   "id": "9a770cf5-4af1-42df-b5ea-7243814ad08f",
   "metadata": {},
   "source": [
    "## User-to-UAV Power\n",
    "We assume users with a fixed transmission power $P^\\text{U}_\\text{tx}$. Let $n$ denote the timeslot index with respect to the UAV’s discrete positions along its trajectory, let $\\lambda$ denote the wavelength of the signal, and let $G_\\text{T}$, $G_\\text{R}$ denote the antenna gain at the user and UAV respectively. The power of the signal received by the UAV from the user is then given as\n",
    "$$P^\\text{A}_{n,k} = P^\\text{U}_\\text{tx}\\cdot G_\\text{T}G_\\text{R}\\left(\\frac{\\lambda}{4\\pi \\cdot ||\\mathbf{w}^\\text{A}_n - \\mathbf{w}^\\text{U}_k||}\\right)^2$$"
   ]
  },
  {
   "cell_type": "code",
   "execution_count": 25,
   "id": "d2244f53-7f90-4b36-a71d-84b65f36538c",
   "metadata": {},
   "outputs": [],
   "source": [
    "def PA(n, r, cx, cy, wU):\n",
    "    wAn = wA(n, r, cx, cy)\n",
    "\n",
    "    dist = sqrt((wAn[0] - wU[0])**2\n",
    "        + (wAn[1] - wU[1])**2\n",
    "        + (wAn[2])**2)\n",
    "    \n",
    "    return PUtx * GT * GR * (WAVELENGTH / (4*pi*dist))**2"
   ]
  },
  {
   "cell_type": "markdown",
   "id": "209a2978-633f-43ac-8893-f5dc7f145752",
   "metadata": {},
   "source": [
    "## UAV-to-BS Power\n",
    "Let $P^\\text{A}_\\text{tx}$ be the UAV transmission power. It follows that the power of the signal received by the base station during the\n",
    "$n$th timeslot is expressed\n",
    "$$P^\\text{B}_n(r, c) = P^\\text{A}_\\text{tx}\\cdot G_\\text{T}G_\\text{R}\\left(\\frac{\\lambda}{4\\pi\\cdot||\\mathbf{w}^\\text{A}_n||}\\right)^2$$"
   ]
  },
  {
   "cell_type": "code",
   "execution_count": 26,
   "id": "a72d8614-f32a-4a99-aeb2-c8712ad5c115",
   "metadata": {},
   "outputs": [],
   "source": [
    "def PB(n, r, cx, cy):\n",
    "    wAn = wA(n, r, cx, cy)\n",
    "\n",
    "    dist = sqrt(wAn[0]**2 + wAn[1]**2 + wAn[2]**2)\n",
    "\n",
    "    return PAtx * GT * GR * (WAVELENGTH / (4*pi*dist))**2"
   ]
  },
  {
   "cell_type": "markdown",
   "id": "56045af4-9347-4bf3-962b-345ce3ecb38b",
   "metadata": {},
   "source": [
    "## User-to-UAV SNR\n",
    "Let $N_0$ be the noise power over the entire bandwidth. In the user-to-UAV link, there are $M$ users transmitting simultaneously to the UAV, the channel for a single user experiences the noise with power $N_0/M$. Thus, the signal-to-noise ratio of the link from the $k$th user to the UAV during the $n$th timeslot can be expressed as\n",
    "$$\\text{SNR}^\\text{UA}_{n,k}(r, c) = \\frac{P^\\text{A}_{n,k}}{N_0/M}$$"
   ]
  },
  {
   "cell_type": "code",
   "execution_count": 27,
   "id": "b163bccf-3e91-4c5e-90b5-23483f5328c7",
   "metadata": {},
   "outputs": [],
   "source": [
    "def SNRUA(n, r, cx, cy, wU):\n",
    "    return PA(n, r, cx, cy, wU) / (N0 / M)"
   ]
  },
  {
   "cell_type": "markdown",
   "id": "49e0b98c-1c00-4a1a-b50a-4b15130640c1",
   "metadata": {},
   "source": [
    "## UAV-to-BS SNR\n",
    "The signal-to-noise ratio of the UAV-to-BS link during the $n$th timeslot can be expressed\n",
    "$$\\text{SNR}^\\text{AB}_n(r, c) = \\frac{P^\\text{B}_n}{N_0}$$"
   ]
  },
  {
   "cell_type": "code",
   "execution_count": 28,
   "id": "2c9f236a-cf33-43a6-8c6b-03b308eb74c0",
   "metadata": {},
   "outputs": [],
   "source": [
    "def SNRAB(n, r, cx, cy):\n",
    "    return PB(n, r, cx, cy) / N0"
   ]
  },
  {
   "cell_type": "markdown",
   "id": "40009d2d-69cd-4573-a0ee-6be2630372b7",
   "metadata": {},
   "source": [
    "# User-to-UAV SE\n",
    "The spectral efficiency of the link from the $k$th user to the UAV during the $n$th timeslot is given by\n",
    "$$\\text{SE}^\\text{UA}_{n,k}(r, c) = \\log_2\\left(1 + \\text{SNR}^\\text{UA}_{n,k}\\right)$$"
   ]
  },
  {
   "cell_type": "code",
   "execution_count": 29,
   "id": "1ec4ccac-669e-4246-9f29-4c66a64ff80f",
   "metadata": {},
   "outputs": [],
   "source": [
    "def SEUA(n, r, cx, cy, wU):\n",
    "    return log2(1 + SNRUA(n, r, cx, cy, wU))"
   ]
  },
  {
   "cell_type": "markdown",
   "id": "4ec9cdb9-8cde-4e13-b9d7-fa85b0f297cd",
   "metadata": {},
   "source": [
    "## UAV-to-BS SE\n",
    "The spectral efficiency of the link from the UAV to the base station during the $n$th timeslot is given as\n",
    "$$\\text{SE}^\\text{AB}_n(r, c) = \\log_2\\left(1 + \\text{SNR}^\\text{AB}_n\\right)$$"
   ]
  },
  {
   "cell_type": "code",
   "execution_count": 30,
   "id": "853a47a5-96a8-4a37-b836-0c300ee2464a",
   "metadata": {},
   "outputs": [],
   "source": [
    "def SEAB(n, r, cx, cy):\n",
    "    return log2(1 + SNRAB(n, r, cx, cy))"
   ]
  },
  {
   "cell_type": "markdown",
   "id": "3c3e8d2b-877f-4187-943d-42b4b71502cf",
   "metadata": {},
   "source": [
    "## Mean SE (objective function)\n",
    "We define $\\alpha$ as the proportion of each timeslot reserved for user-to-UAV transmission. The proportion of the timeslot reserved for UAV-to-BS transmission is $1-\\alpha$. \n",
    "\n",
    "The average achievable spectral efficiency of the relay system over the timeslots is then given as\n",
    "$$\\overline{\\text{SE}}(\\alpha, r, c) = \\frac{1}{N}\\sum_{n=0}^N \\min\\left[\\alpha \\cdot \\frac{1}{M}\\sum_{k\\in\\mathcal{U}_n}\\text{SE}^\\text{UA}_{n,k}\\;\\mathbf{,}\\;(1-\\alpha)\\cdot\\text{SE}^\\text{AB}_n\\right]$$"
   ]
  },
  {
   "cell_type": "code",
   "execution_count": 31,
   "id": "0fb9b084-11f8-48e5-8647-8298b7f77b77",
   "metadata": {},
   "outputs": [],
   "source": [
    "def meanSE(alpha, r, cx, cy):\n",
    "    T = (2 * pi * r) / v # period\n",
    "    N = int(T // TC)     # number of timeslots\n",
    "    \n",
    "    total_se = 0\n",
    "    user_index = 0\n",
    "    for n in range(N):\n",
    "        ua_se = 0\n",
    "\n",
    "        for user_index in range(user_index, user_index + M):\n",
    "            ua_se += SEUA(n, r, cx, cy, users[user_index])\n",
    "\n",
    "        ua_se *= (alpha / M)\n",
    "\n",
    "        ab_se = SEAB(n, r, cx, cy)\n",
    "        ab_se *= (1 - alpha)\n",
    "        \n",
    "        total_se += min(ua_se, ab_se)\n",
    "\n",
    "    return total_se / N"
   ]
  },
  {
   "cell_type": "markdown",
   "id": "fa6f6911-9a1f-4c8b-acf0-0b22191287dc",
   "metadata": {},
   "source": [
    "## Baselines\n",
    "Here I define two baselines to see how much improvement the optimizations are providing us. The two baselines are\n",
    "1. Running 1000 random trials with $\\alpha=0.5$, a random $c\\in[0,2*D]$, and a random $r\\in[r_\\text{min}, r_\\text{max}]$\n",
    "2. MeanSE with $\\alpha=0.5$, $c=D/2$, and $r=(r_\\text{min}+r_\\text{max})/2$"
   ]
  },
  {
   "cell_type": "code",
   "execution_count": 32,
   "id": "897c3db9-18dc-43c7-846c-875e3942f4fc",
   "metadata": {},
   "outputs": [
    {
     "name": "stdout",
     "output_type": "stream",
     "text": [
      "meanSE with random r, cx, cy: 0.7794972829512841\n",
      "meanSE with centered r, cx, cy: 1.0317175344655278\n"
     ]
    }
   ],
   "source": [
    "def baselines():\n",
    "    rand_total = 0\n",
    "    for i in range(1000):\n",
    "        rand_total += meanSE(random.uniform(0, 1), random.uniform(r_min, r_max), random.uniform(cx_min, cx_max), random.uniform(cy_min, cy_max))\n",
    "\n",
    "    rand_total /= 1000\n",
    "\n",
    "    return (rand_total, meanSE(0.5, (r_min+r_max)/2, (cx_min + cx_max)/2, (cy_min + cy_max)/2))\n",
    "\n",
    "a, b = baselines()\n",
    "\n",
    "print(f'meanSE with random r, cx, cy: {a}')\n",
    "print(f'meanSE with centered r, cx, cy: {b}')"
   ]
  },
  {
   "cell_type": "markdown",
   "id": "7fea2971-ae3f-4fbb-a807-1ab65a144a3a",
   "metadata": {},
   "source": [
    "## $\\alpha$ Optimizer\n",
    "### For meanSE\n",
    "Here I will define an optimizer to find the optimal $\\alpha$ for a fixed $r$, $c$. Define for each timeslot\n",
    "$$a_n := \\frac{1}{M}\\sum_{k\\in\\mathcal{U}_n}\\text{SE}^\\text{UA}_{n,k}(r,c)$$\n",
    "and\n",
    "$$b_n := \\text{SE}^\\text{AB}_n(r,c).$$\n",
    "The two pieces will be equal at\n",
    "$$\\alpha = \\frac{b_n}{a_n + b_n} = t_n.$$\n",
    "Then the full objective function is\n",
    "$$f(\\alpha)=\\frac{1}{N}\\sum_{n=0}^{N-1}\\begin{cases}\\alpha\\cdot a_n & ,\\alpha \\leq t_n\\\\ (1-\\alpha)\\cdot b_n & , \\alpha > t_n\\end{cases}$$\n",
    "the derivative is\n",
    "$$f'(\\alpha) = \\frac{1}{N}\\sum_{n=0}^{N-1}\\begin{cases}a_n & ,\\alpha\\leq t_n\\\\ -b_n & ,\\alpha>t_n\\end{cases}$$\n",
    "\n",
    "Key facts:\n",
    "- $\\min(a_n, b_n)$ is concave (minimum of two affine functions)\n",
    "- $f$ is concave because $\\min(a_n, b_n)$ is concave\n",
    "- Because $f$ is concave, it's maximum will lie at a point where the sign of the derivative changes (one of the $t_n$s) or a boundary $\\alpha = 0$ or $\\alpha = 1$\n",
    "- Maybe need to check points where derivative = 0, but idk where that happens"
   ]
  },
  {
   "cell_type": "code",
   "execution_count": 33,
   "id": "b179e086-9a05-4c51-b978-fa5b9861a8e3",
   "metadata": {},
   "outputs": [],
   "source": [
    "def mean_maximizeAlpha(r, cx, cy):\n",
    "    T = (2 * pi * r) / v # period\n",
    "    N = int(T // TC)     # number of timeslots\n",
    "    \n",
    "    tn_list = []\n",
    "    user_index = 0\n",
    "    for n in range(N):\n",
    "        an = 0\n",
    "        for user_index in range(user_index, user_index + M):\n",
    "            an += SEUA(n, r, cx, cy, users[user_index])\n",
    "\n",
    "        an /= M\n",
    "\n",
    "        bn = SEAB(n, r, cx, cy)\n",
    "\n",
    "        tn_list.append( bn / (an + bn) )\n",
    "        \n",
    "    tn_list.append(1)\n",
    "    \n",
    "    opt_alpha = 0\n",
    "    max_meanSE_val = meanSE(0, r, cx, cy)\n",
    "\n",
    "    for tn in tn_list:\n",
    "        meanSE_val = meanSE(tn, r, cx, cy)\n",
    "\n",
    "        if (meanSE_val > max_meanSE_val):\n",
    "            opt_alpha, max_meanSE_val = tn, meanSE_val\n",
    "\n",
    "    return opt_alpha"
   ]
  },
  {
   "cell_type": "markdown",
   "id": "65b026fb-d33d-4f2e-a7d1-7a286b33cbff",
   "metadata": {},
   "source": [
    "## Block Optimizer With Powell's for $\\alpha$, $r$, $c$\n",
    "Here I define a block optimizer to iteratively optimize $\\alpha$, $r$, and $c$. First, the optimal $\\alpha$ is found for our initial $r$ and $c$. Then, $r$ and $c$ are optimized for the optimal $\\alpha$. This process repeats until the objective function is improving by less than $\\epsilon = 0.001$."
   ]
  },
  {
   "cell_type": "code",
   "execution_count": 34,
   "id": "2049c7a5-b620-44fc-b40c-f25f2d273058",
   "metadata": {},
   "outputs": [
    {
     "name": "stdout",
     "output_type": "stream",
     "text": [
      "iteration 0\n",
      "Optimization terminated successfully.\n",
      "iteration 1\n",
      "Optimization terminated successfully.\n",
      "iteration 2\n",
      "Optimization terminated successfully.\n",
      "iteration 3\n",
      "Optimization terminated successfully.\n",
      "iteration 4\n",
      "Optimization terminated successfully.\n",
      "iteration 5\n",
      "Optimization terminated successfully.\n",
      "iteration 6\n",
      "Optimization terminated successfully.\n",
      "iteration 7\n",
      "Optimization terminated successfully.\n",
      "iteration 8\n",
      "Optimization terminated successfully.\n",
      "iteration 9\n",
      "Optimization terminated successfully.\n",
      "iteration 10\n",
      "Optimization terminated successfully.\n",
      "iteration 11\n",
      "Optimization terminated successfully.\n",
      "iteration 12\n",
      "Optimization terminated successfully.\n",
      "iteration 13\n",
      "Optimization terminated successfully.\n",
      "Optimal alpha: 0.563013399708858\n",
      "Optimal radius: 1002.6761949060739\n",
      "Optimal center: (9999.99940093362, -1760.2577690056783)\n",
      "Max se: 2.407070186963026\n"
     ]
    },
    {
     "data": {
      "image/png": "[encoded data removed]",
      "text/plain": [
       "<Figure size 640x480 with 1 Axes>"
      ]
     },
     "metadata": {},
     "output_type": "display_data"
    }
   ],
   "source": [
    "def objective(params, alpha):\n",
    "    r, cx, cy = params\n",
    "    return -meanSE(alpha, r, cx, cy)\n",
    "\n",
    "\n",
    "def powells_optimizer(\n",
    "        alpha0,\n",
    "        r0,\n",
    "        cx0, \n",
    "        cy0,\n",
    "        rbounds,\n",
    "        cxbounds,\n",
    "        cybounds,\n",
    "        tolerance=1e-3\n",
    "):\n",
    "    \n",
    "    alpha = alpha0\n",
    "    r = r0\n",
    "    cx = cx0\n",
    "    cy = cy0\n",
    "    \n",
    "    obj_hist = []\n",
    "\n",
    "    it = 0\n",
    "    while True:\n",
    "        print(f'iteration {it}')\n",
    "        \n",
    "        alpha = mean_maximizeAlpha(r, cx, cy)\n",
    "        \n",
    "        result = minimize(\n",
    "            objective,\n",
    "            [r,cx,cy],\n",
    "            args=(alpha),\n",
    "            method='Powell',\n",
    "            bounds=[rbounds, cxbounds, cybounds],\n",
    "            options={\n",
    "                'maxiter':1000,\n",
    "                'xtol':1e-3,\n",
    "                'ftol':1e-3\n",
    "            }\n",
    "        )\n",
    "\n",
    "        print(result.message)\n",
    "\n",
    "        r, cx, cy = result.x\n",
    "        \n",
    "        obj_hist.append(meanSE(alpha, r, cx, cy))\n",
    "\n",
    "        if it > 0:\n",
    "            if ( (obj_hist[-1] - obj_hist[-2])/obj_hist[-2] < tolerance):\n",
    "                break\n",
    "        \n",
    "        it += 1\n",
    "\n",
    "    return alpha, r, cx, cy\n",
    "\n",
    "\n",
    "alpha0 = 0.5\n",
    "r0 = (r_min + r_max)/2\n",
    "cx0 = (cx_min + cx_max)/2\n",
    "cy0 = (cy_min + cy_max)/2\n",
    "\n",
    "alpha_opt, r_opt, cx_opt, cy_opt = powells_optimizer(\n",
    "                                                    alpha0,\n",
    "                                                    r0,\n",
    "                                                    cx0,\n",
    "                                                    cy0,\n",
    "                                                    (r_min, r_max),\n",
    "                                                    (cx_min, cx_max),\n",
    "                                                    (cy_min, cy_max)\n",
    ")\n",
    "print(f'Optimal alpha: {alpha_opt}')\n",
    "print(f'Optimal radius: {r_opt}')\n",
    "print(f'Optimal center: ({cx_opt}, {cy_opt})')\n",
    "print(f'Max se: {meanSE(alpha_opt, r_opt, cx_opt, cy_opt)}')\n",
    "\n",
    "xs, ys = zip(*users)\n",
    "plt.scatter(xs, ys, c='b', marker='o', s=5)\n",
    "plt.scatter(0, 0, c='black', marker='2', s=200, label=\"Origin\")\n",
    "plt.scatter(cx_opt, cy_opt+r_opt, c='r', marker='<', s=50, label=\"UAV\")\n",
    "ax = plt.gca()  # get current axes\n",
    "coverage_zone = patches.Circle((0, 0), radius=2000, fill=False, color='black', linewidth=1)\n",
    "flight_path = patches.Circle((cx_opt, cy_opt), radius=r_opt, fill=False, color='red', linewidth=1)\n",
    "ax.add_patch(coverage_zone)\n",
    "ax.add_patch(flight_path)\n",
    "plt.grid(True)\n",
    "plt.xlabel(\"x\")\n",
    "plt.ylabel(\"y\")\n",
    "plt.xlim(-10000, 10000)\n",
    "plt.ylim(-10000, 10000)\n",
    "plt.axis(\"equal\")  # equal scaling\n",
    "plt.show()\n"
   ]
  },
  {
   "cell_type": "markdown",
   "id": "9f9c297c",
   "metadata": {},
   "source": [
    "## Successive Convex Optimization\n",
    "In the next cell, I attempt to optimize $r$, $c_\\text{x}$, $c_\\text{y}$ using successive convex optimization"
   ]
  },
  {
   "cell_type": "code",
   "execution_count": 35,
   "id": "b85348ef",
   "metadata": {},
   "outputs": [
    {
     "name": "stdout",
     "output_type": "stream",
     "text": [
      "Iteration 0\n",
      "Iteration 1\n",
      "Optimal alpha: 0.5682577118841028\n",
      "Optimal radius: 1000.000029817891\n",
      "Optimal center: (9912.31338957993, -1149.1221252815387)\n",
      "Max se: 2.397596362070579\n"
     ]
    },
    {
     "data": {
      "image/png": "[encoded data removed]",
      "text/plain": [
       "<Figure size 640x480 with 1 Axes>"
      ]
     },
     "metadata": {},
     "output_type": "display_data"
    }
   ],
   "source": [
    "Un_list = np.arange(0, K)\n",
    "Un_list = np.reshape(Un_list, (N, M))\n",
    "\n",
    "def sca_mean_block_descent(r0, cx0, cy0):\n",
    "    r = r0\n",
    "    cx = cx0\n",
    "    cy = cy0\n",
    "    alpha = 0.5\n",
    "    \n",
    "    delta = np.inf\n",
    "    se = 0\n",
    "    it = 0\n",
    "    while (delta > 1e-6):\n",
    "        print(f'Iteration {it}')\n",
    "        \n",
    "        results = sca_optimize_uav_circle(0.5, # alpha\n",
    "                                  np.asarray(users),\n",
    "                                  H,\n",
    "                                  N,\n",
    "                                  Un_list,\n",
    "                                  M,\n",
    "                                  PUtx, PAtx, GT, GR, WAVELENGTH, N0,\n",
    "                                  r_init = r0, cx_init=cx0, cy_init=cy0,\n",
    "                                  r_bounds=(r_min, r_max),\n",
    "                                  cx_bounds=(cx_min, cx_max),\n",
    "                                  cy_bounds=(cy_min, cy_max),\n",
    "                                  sca_tol=1e-6,\n",
    "                                  trust_radius=0.01,\n",
    "                                  verbose=False)\n",
    "\n",
    "        r, cx, cy = results['r'], results['cx'], results['cy']\n",
    "        alpha = mean_maximizeAlpha(r, cx, cy)\n",
    "        \n",
    "        new_se = meanSE(alpha, results['r'], results['cx'], results['cy'])\n",
    "        delta = new_se - se\n",
    "\n",
    "        se = new_se\n",
    "        it += 1\n",
    "    \n",
    "    return alpha, r, cx, cy, se\n",
    "\n",
    "r0 = (r_min + r_max)/2\n",
    "cx0 = (cx_min + cx_max)/2\n",
    "cy0 = (cy_min + cy_max)/2\n",
    "\n",
    "alpha_opt, r_opt, cx_opt, cy_opt, se_opt = sca_mean_block_descent(r0, cx0, cy0)\n",
    "\n",
    "print(f'Optimal alpha: {alpha_opt}')\n",
    "print(f'Optimal radius: {r_opt}')\n",
    "print(f'Optimal center: ({cx_opt}, {cy_opt})')\n",
    "print(f'Max se: {se_opt}')\n",
    "\n",
    "xs, ys = zip(*users)\n",
    "plt.scatter(xs, ys, c='b', marker='o', s=5)\n",
    "plt.scatter(0, 0, c='black', marker='2', s=200, label=\"Origin\")\n",
    "plt.scatter(cx_opt, cy_opt+r_opt, c='r', marker='<', s=50, label=\"UAV\")\n",
    "ax = plt.gca()  # get current axes\n",
    "coverage_zone = patches.Circle((0, 0), radius=2000, fill=False, color='black', linewidth=1)\n",
    "flight_path = patches.Circle((cx_opt, cy_opt), radius=r_opt, fill=False, color='red', linewidth=1)\n",
    "ax.add_patch(coverage_zone)\n",
    "ax.add_patch(flight_path)\n",
    "plt.grid(True)\n",
    "plt.xlabel(\"x\")\n",
    "plt.ylabel(\"y\")\n",
    "plt.xlim(-10000, 10000)\n",
    "plt.ylim(-10000, 10000)\n",
    "plt.axis(\"equal\")  # equal scaling\n",
    "plt.show()"
   ]
  },
  {
   "cell_type": "code",
   "execution_count": 36,
   "id": "da65298d",
   "metadata": {},
   "outputs": [
    {
     "data": {
      "text/plain": [
       "1.0391971305737548"
      ]
     },
     "execution_count": 36,
     "metadata": {},
     "output_type": "execute_result"
    }
   ],
   "source": [
    "meanSE(0.40386408111934846, 1000.0004878790709, 9044.35591871686, 9067.449275915795)"
   ]
  },
  {
   "cell_type": "markdown",
   "id": "762f22e6-5d21-43a5-9af5-25a8d22df764",
   "metadata": {},
   "source": [
    "## Transmission Power vs. Achievable SE\n",
    "Here I generate plots for both normal and uniform distributions showing how transmission power affects the achievable SE"
   ]
  },
  {
   "cell_type": "code",
   "execution_count": 37,
   "id": "65a64cc0-f7a4-4048-b547-70802b41a118",
   "metadata": {},
   "outputs": [],
   "source": [
    "def generate_plot(distribution='uniform'):\n",
    "    gamma_list = np.linspace(1, 10, 100)\n",
    "\n",
    "    se_list = []\n",
    "    for gamma in gamma_list:\n",
    "        _1, _2, _3, se = block_descent(1000, D/2, distribution=distribution, PUtx=gamma*PUtx, PAtx=gamma*PAtx)\n",
    "\n",
    "        se_list.append(se)\n",
    "\n",
    "    plt.scatter(gamma_list, se_list, c='b', marker='o', s=5)\n",
    "    plt.xlabel(\"gamma\")\n",
    "    plt.ylabel(\"spectral efficiency\")\n",
    "    plt.axis(\"equal\")  # equal scaling\n",
    "    plt.show()\n",
    "\n",
    "\n",
    "    "
   ]
  },
  {
   "cell_type": "markdown",
   "id": "b3d316cc-cea2-4856-8e79-9b955c43fec6",
   "metadata": {},
   "source": [
    "## Upper Bound (rotary-wing optimizer)\n",
    "Here I define the necessary functions to find the maximum average spectral efficiency achievable by a rotary-wing UAV. The rotary-wing drone hovers at a height $H$ and we optimize its position along the x-axis, $c$. The rotary-wing UAV relays for $N_\\text{max}$ time slots."
   ]
  },
  {
   "cell_type": "code",
   "execution_count": 38,
   "id": "ce4a7ddd-2bb1-4e13-b12b-5e66491051b2",
   "metadata": {},
   "outputs": [
    {
     "ename": "NameError",
     "evalue": "name 'N_max' is not defined",
     "output_type": "error",
     "traceback": [
      "\u001b[31m---------------------------------------------------------------------------\u001b[39m",
      "\u001b[31mNameError\u001b[39m                                 Traceback (most recent call last)",
      "\u001b[36mCell\u001b[39m\u001b[36m \u001b[39m\u001b[32mIn[38]\u001b[39m\u001b[32m, line 123\u001b[39m\n\u001b[32m    119\u001b[39m     se_opt = -result.fun\n\u001b[32m    121\u001b[39m     \u001b[38;5;28;01mreturn\u001b[39;00m c_opt, se_opt, result\n\u001b[32m--> \u001b[39m\u001b[32m123\u001b[39m c_opt, se_opt, _ = \u001b[43moptimize_c\u001b[49m\u001b[43m(\u001b[49m\u001b[43mD\u001b[49m\u001b[43m/\u001b[49m\u001b[32;43m2\u001b[39;49m\u001b[43m)\u001b[49m\n\u001b[32m    125\u001b[39m \u001b[38;5;28mprint\u001b[39m(\u001b[33mf\u001b[39m\u001b[33m'\u001b[39m\u001b[33mOptimal centerpoint: \u001b[39m\u001b[38;5;132;01m{\u001b[39;00mc_opt\u001b[38;5;132;01m}\u001b[39;00m\u001b[33m'\u001b[39m)\n\u001b[32m    126\u001b[39m \u001b[38;5;28mprint\u001b[39m(\u001b[33mf\u001b[39m\u001b[33m'\u001b[39m\u001b[33mAchievable se: \u001b[39m\u001b[38;5;132;01m{\u001b[39;00mse_opt\u001b[38;5;132;01m}\u001b[39;00m\u001b[33m'\u001b[39m)\n",
      "\u001b[36mCell\u001b[39m\u001b[36m \u001b[39m\u001b[32mIn[38]\u001b[39m\u001b[32m, line 65\u001b[39m, in \u001b[36moptimize_c\u001b[39m\u001b[34m(c_init)\u001b[39m\n\u001b[32m     64\u001b[39m \u001b[38;5;28;01mdef\u001b[39;00m\u001b[38;5;250m \u001b[39m\u001b[34moptimize_c\u001b[39m(c_init):\n\u001b[32m---> \u001b[39m\u001b[32m65\u001b[39m     alpha = \u001b[43mrotary_maximizeAlpha\u001b[49m\u001b[43m(\u001b[49m\u001b[43mc_init\u001b[49m\u001b[43m)\u001b[49m\n\u001b[32m     67\u001b[39m     search_size = \u001b[32m1000\u001b[39m\n\u001b[32m     69\u001b[39m     c_vals = np.linspace(c_min, c_max, search_size)\n",
      "\u001b[36mCell\u001b[39m\u001b[36m \u001b[39m\u001b[32mIn[38]\u001b[39m\u001b[32m, line 42\u001b[39m, in \u001b[36mrotary_maximizeAlpha\u001b[39m\u001b[34m(c)\u001b[39m\n\u001b[32m     38\u001b[39m user_index = \u001b[32m0\u001b[39m\n\u001b[32m     40\u001b[39m bn = rotary_SEAB(c)\n\u001b[32m---> \u001b[39m\u001b[32m42\u001b[39m \u001b[38;5;28;01mfor\u001b[39;00m n \u001b[38;5;129;01min\u001b[39;00m \u001b[38;5;28mrange\u001b[39m(\u001b[43mN_max\u001b[49m):\n\u001b[32m     43\u001b[39m     an = \u001b[32m0\u001b[39m\n\u001b[32m     44\u001b[39m     \u001b[38;5;28;01mfor\u001b[39;00m user_index \u001b[38;5;129;01min\u001b[39;00m \u001b[38;5;28mrange\u001b[39m(user_index, user_index + M):\n",
      "\u001b[31mNameError\u001b[39m: name 'N_max' is not defined"
     ]
    }
   ],
   "source": [
    "def rotary_SEUA(c, wU):\n",
    "    dist = sqrt((c - wU[0])**2 + wU[1]**2 + H**2)\n",
    "    PA = PUtx * GT * GR * (WAVELENGTH / (4*pi*dist))**2\n",
    "\n",
    "    SNR = PA / (N0 / M)\n",
    "\n",
    "    return log2(1 + SNR)\n",
    "\n",
    "def rotary_SEAB(c):\n",
    "    dist = sqrt(c**2 + H**2)\n",
    "    \n",
    "    PB = PAtx * GT * GR * (WAVELENGTH / (4*pi*dist))**2\n",
    "\n",
    "    SNR = PB / N0\n",
    "\n",
    "    return log2(1 + SNR)\n",
    "\n",
    "def rotary_meanSE(alpha, c):\n",
    "    total_se = 0\n",
    "    user_index = 0\n",
    "\n",
    "    ab_se = rotary_SEAB(c) * (1 - alpha)\n",
    "\n",
    "    for n in range(N_max):\n",
    "        ua_se = 0\n",
    "\n",
    "        for user_index in range(user_index, user_index + M):\n",
    "            ua_se += rotary_SEUA(c, users[user_index])\n",
    "\n",
    "        ua_se *= (alpha / M)\n",
    "\n",
    "        total_se += min(ua_se, ab_se)\n",
    "\n",
    "    return total_se / N_max\n",
    "\n",
    "def rotary_maximizeAlpha(c):\n",
    "    tn_list = []\n",
    "    user_index = 0\n",
    "\n",
    "    bn = rotary_SEAB(c)\n",
    "    \n",
    "    for n in range(N_max):\n",
    "        an = 0\n",
    "        for user_index in range(user_index, user_index + M):\n",
    "            an += rotary_SEUA(c, users[user_index])\n",
    "\n",
    "        an /= M\n",
    "\n",
    "        tn_list.append( bn / (an + bn) )\n",
    "        \n",
    "    tn_list.append(1)\n",
    "    \n",
    "    max_alpha = 0\n",
    "    max_alpha_val = rotary_meanSE(0, c)\n",
    "\n",
    "    for tn in tn_list:\n",
    "        tn_val = rotary_meanSE(tn, c)\n",
    "\n",
    "        if (tn_val > max_alpha_val):\n",
    "            max_alpha, max_alpha_val = tn, tn_val\n",
    "\n",
    "    return max_alpha\n",
    "\n",
    "def optimize_c(c_init):\n",
    "    alpha = rotary_maximizeAlpha(c_init)\n",
    "\n",
    "    search_size = 1000\n",
    "    \n",
    "    c_vals = np.linspace(c_min, c_max, search_size)\n",
    "    se_vals = [0 for i in range(search_size)]\n",
    "    \n",
    "    best_se = 0\n",
    "    best_idx = 0\n",
    "    \n",
    "    for i in range(search_size):\n",
    "        se_vals[i] = rotary_meanSE(alpha, c_vals[i])\n",
    "\n",
    "        if (se_vals[i] > best_se):\n",
    "            best_se = se_vals[i]\n",
    "            best_idx = i\n",
    "\n",
    "    new_cmin, new_cmax, new_cinit = 0, 0, 0\n",
    "    \n",
    "    if (best_idx == 0):\n",
    "        new_cmin = c_vals[0]\n",
    "        new_cmax = c_vals[1]\n",
    "        new_cinit = (new_cmin + new_cmax) / 2\n",
    "    elif (best_idx == search_size-1):\n",
    "        new_cmin = c_vals[search_size-2]\n",
    "        new_cmax = c_vals[search_size-1]\n",
    "        new_cinit = (new_cmin + new_cmax) / 2\n",
    "    else:\n",
    "        new_cmin = c_vals[best_idx-1]\n",
    "        new_cmax = c_vals[best_idx+1]\n",
    "        new_cinit = c_vals[best_idx]\n",
    "        \n",
    "\n",
    "    alpha = rotary_maximizeAlpha(new_cinit, users)\n",
    "\n",
    "    # result = minimize(\n",
    "    #     lambda c: -rotary_meanSE(alpha, c, users),\n",
    "    #     D/2,\n",
    "    #     bounds=(new_cmin, new_cmax),\n",
    "    #     method='Powell',\n",
    "    #     options={\n",
    "    #         'maxiter':1000,\n",
    "    #         'xtol':1e-3,\n",
    "    #         'ftol':1e-3\n",
    "    #     }\n",
    "    # )\n",
    "\n",
    "    result = minimize_scalar(\n",
    "        lambda c: -rotary_meanSE(alpha, c, users),\n",
    "        bounds=(new_cmin, new_cmax),\n",
    "        method='bounded'\n",
    "    )\n",
    "\n",
    "    c_opt = result.x\n",
    "    se_opt = -result.fun\n",
    "    \n",
    "    return c_opt, se_opt, result\n",
    "\n",
    "c_opt, se_opt, _ = optimize_c(D/2)\n",
    "\n",
    "print(f'Optimal centerpoint: {c_opt}')\n",
    "print(f'Achievable se: {se_opt}')"
   ]
  },
  {
   "cell_type": "code",
   "execution_count": null,
   "id": "85968720-911d-45ef-8c52-0f622de1dbda",
   "metadata": {},
   "outputs": [],
   "source": [
    "total = 0\n",
    "for i in range(1000):\n",
    "    total += meanSE(0.5, random.randint(500, 2000), random.randint(0, 2*D), users)\n",
    "\n",
    "print(total /1000)"
   ]
  },
  {
   "cell_type": "code",
   "execution_count": null,
   "id": "ee688e95-b2f6-4ed1-9f48-5898f44297f2",
   "metadata": {},
   "outputs": [],
   "source": [
    "c_vals = np.linspace(0, 2*D, 100)\n",
    "r_vals = np.linspace(1000, 3000, 100)\n",
    "\n",
    "# Create arrays to hold results\n",
    "SE_values = np.zeros((len(c_vals), len(r_vals)))\n",
    "\n",
    "for i, c in enumerate(c_vals):\n",
    "    for j, r in enumerate(r_vals):\n",
    "        alpha = maximizeAlpha(r, c, users)\n",
    "        SE_values[i, j] = meanSE(alpha, r, c, users)\n",
    "\n",
    "# Create meshgrid for plotting\n",
    "R, C = np.meshgrid(r_vals, c_vals)\n",
    "\n",
    "# Plot\n",
    "fig = plt.figure(figsize=(10, 7))\n",
    "ax = fig.add_subplot(111, projection='3d')\n",
    "\n",
    "surf = ax.plot_surface(R, C, SE_values, cmap='viridis', edgecolor='none')\n",
    "\n",
    "ax.set_xlabel('r')\n",
    "ax.set_ylabel('c')\n",
    "ax.set_zlabel('meanSE')\n",
    "ax.set_title('UAV Optimization Surface')\n",
    "\n",
    "fig.colorbar(surf, shrink=0.5, aspect=5)\n",
    "plt.show()"
   ]
  },
  {
   "cell_type": "code",
   "execution_count": null,
   "id": "4853de72-ee35-438b-8f0d-864f81b78ce4",
   "metadata": {},
   "outputs": [],
   "source": [
    "generate_users(max_K)"
   ]
  }
 ],
 "metadata": {
  "kernelspec": {
   "display_name": "heathlab",
   "language": "python",
   "name": "python3"
  },
  "language_info": {
   "codemirror_mode": {
    "name": "ipython",
    "version": 3
   },
   "file_extension": ".py",
   "mimetype": "text/x-python",
   "name": "python",
   "nbconvert_exporter": "python",
   "pygments_lexer": "ipython3",
   "version": "3.12.9"
  }
 },
 "nbformat": 4,
 "nbformat_minor": 5
}
