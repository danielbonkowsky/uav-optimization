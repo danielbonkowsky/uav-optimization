{
 "cells": [
  {
   "cell_type": "markdown",
   "id": "f0300884-1925-44b0-964b-cfd587538068",
   "metadata": {},
   "source": [
    "Let $T$ be the flight duration. Let $T_\\text{C}$ be the length of a timeslot (short enough that the channel is considered stationary). Then $N = T/T_\\text{C}$ is the total number of timeslots over the flight duration. Let $M$ be the number of users that the UAV can serve simulaneously. Then we define $K$, the total number of users, as $M\\cdot N$ for convenience."
   ]
  },
  {
   "cell_type": "code",
   "execution_count": 1,
   "id": "0d32248e-1065-4b6c-ad70-90ca96c6644d",
   "metadata": {},
   "outputs": [],
   "source": [
    "T = 1000    # seconds\n",
    "TC = 1      # seconds\n",
    "N = T // TC # timeslots\n",
    "M = 1       # users\n",
    "K = M * N   # users"
   ]
  },
  {
   "cell_type": "markdown",
   "id": "c133b79d-d8dc-4ab0-87c0-a464c86a6fa7",
   "metadata": {},
   "source": [
    "Ground users are distributed within a dead zone centered $D$ meters away from the base station on the x-axis. For the purpose of this simulation, we consider a circular deadzone of radius $r_\\text{D}$. "
   ]
  },
  {
   "cell_type": "code",
   "execution_count": 2,
   "id": "6c060d0a-6ada-4f54-9f71-fd044d38b3a7",
   "metadata": {},
   "outputs": [],
   "source": [
    "D = 5000 # meters\n",
    "rD = 200 # meters"
   ]
  },
  {
   "cell_type": "markdown",
   "id": "a9e123a0-7f60-4f8d-b323-f9d3e8ac4200",
   "metadata": {},
   "source": [
    "Here we define a function to randomly generate users within the deadzone"
   ]
  },
  {
   "cell_type": "code",
   "execution_count": 3,
   "id": "2b328cce-feb7-4750-843c-e755bb75aa6f",
   "metadata": {},
   "outputs": [],
   "source": [
    "from math import sqrt, cos, sin, pi\n",
    "import random\n",
    "\n",
    "def generate_users():\n",
    "    users = []\n",
    "    for _ in range(K):\n",
    "        r = rD * sqrt(random.random())\n",
    "        theta = random.uniform(0, 2*pi)\n",
    "        x = r * cos(theta)\n",
    "        y = r * sin(theta)\n",
    "\n",
    "        users.append((x, y, 0))\n",
    "    \n",
    "    return users"
   ]
  },
  {
   "cell_type": "markdown",
   "id": "77118651-a40e-4809-b74e-4ddbb2d084ae",
   "metadata": {},
   "source": [
    "The UAV flies on a circular path of radius $r$ centered $c$ meters away from the base station on the x-axis. These are both parameters we will optimize for.\n",
    "\n",
    "The circular path is located $H$ meters above the ground. We assume the UAV flies with constant speed $v$."
   ]
  },
  {
   "cell_type": "code",
   "execution_count": 4,
   "id": "7aa534f6-7ea3-4781-8c13-f9d29cc5c134",
   "metadata": {},
   "outputs": [],
   "source": [
    "H = 100 # meters\n",
    "v = 10  # meters/sec"
   ]
  },
  {
   "cell_type": "markdown",
   "id": "e78f6395-99e8-4176-b4aa-fe655d853a0d",
   "metadata": {},
   "source": [
    "The UAV’s trajectory can be considered a discrete sequence of positions, each one a function of the flight path radius $r$ and the flight path center point $c$. If the timeslots are indexed $1\\dots N$ , then the UAV’s position during timeslot $n$ is given by \n",
    "$$\\mathbf{w}_n^\\text{A}(r,c) = \\left[c + r\\cos\\left(\\frac{2\\pi n}{N}\\right),r\\sin\\left(\\frac{2\\pi n}{N}\\right),H\\right]$$"
   ]
  },
  {
   "cell_type": "code",
   "execution_count": 5,
   "id": "33159ecd-5a72-4b4c-bef5-16372920295c",
   "metadata": {},
   "outputs": [],
   "source": [
    "def wA(n, r, c):\n",
    "    x = c + r*cos( (v*n*TC)/r )\n",
    "    y = r*sin( (v*n*TC)/r )\n",
    "    z = H\n",
    "    return (x, y, z)"
   ]
  },
  {
   "cell_type": "markdown",
   "id": "9a770cf5-4af1-42df-b5ea-7243814ad08f",
   "metadata": {},
   "source": [
    "We assume users with a fixed transmission power $P^\\text{U}_\\text{tx}$. Let $n$ denote the timeslot index with respect to the UAV’s discrete positions along its trajectory, let $\\lambda$ denote the wavelength of the signal, and let $G_\\text{T}$, $G_\\text{R}$ denote the antenna gain at the user and UAV respectively. The power of the signal received by the UAV from the user is then given as\n",
    "$$P^\\text{A}_{n,k} = P^\\text{U}_\\text{tx}\\cdot G_\\text{T}G_\\text{R}\\left(\\frac{\\lambda}{4\\pi \\cdot ||\\mathbf{w}^\\text{A}_n - \\mathbf{w}^\\text{U}_k||}\\right)^2$$"
   ]
  },
  {
   "cell_type": "code",
   "execution_count": 6,
   "id": "d2244f53-7f90-4b36-a71d-84b65f36538c",
   "metadata": {},
   "outputs": [],
   "source": [
    "import scipy\n",
    "\n",
    "PUtx = 1 # watts\n",
    "GT = 1\n",
    "GR = 1\n",
    "\n",
    "FREQ = 2*10**9\n",
    "WAVELENGTH = scipy.constants.c / FREQ\n",
    "\n",
    "def PA(n, r, c, wU):\n",
    "    wAn = wA(n, r, c)\n",
    "\n",
    "    dist = sqrt((wAn[0] - wU[0])**2\n",
    "        + (wAn[1] - wU[1])**2\n",
    "        + (wAn[2] - wU[2])**2)\n",
    "    \n",
    "    return PUtx * GT * GR * (WAVELENGTH / (4 * pi * dist))**2"
   ]
  },
  {
   "cell_type": "markdown",
   "id": "209a2978-633f-43ac-8893-f5dc7f145752",
   "metadata": {},
   "source": [
    "Let $P^\\text{A}_\\text{tx}$ be the UAV transmission power. It follows that the power of the signal received by the base station during the\n",
    "$n$th timeslot is expressed\n",
    "$$P^\\text{B}_n(r, c) = P^\\text{A}_\\text{tx}\\cdot G_\\text{T}G_\\text{R}\\left(\\frac{\\lambda}{4\\pi\\cdot||\\mathbf{w}^\\text{A}_n||}\\right)^2$$"
   ]
  },
  {
   "cell_type": "code",
   "execution_count": 7,
   "id": "a72d8614-f32a-4a99-aeb2-c8712ad5c115",
   "metadata": {},
   "outputs": [],
   "source": [
    "PAtx = 1 # watts\n",
    "\n",
    "def PB(n, r, c):\n",
    "    wAn = wA(n, r, c)\n",
    "\n",
    "    dist = sqrt(wAn[0]**2 + wAn[1]**2 + wAn[2]**2)\n",
    "\n",
    "    return PAtx * GT * GR * (WAVELENGTH / (4 * pi * dist))**2"
   ]
  },
  {
   "cell_type": "markdown",
   "id": "56045af4-9347-4bf3-962b-345ce3ecb38b",
   "metadata": {},
   "source": [
    "Let $N_0$ be the noise power over the entire bandwidth. In the user-to-UAV link, there are $M$ users transmitting simultaneously to the UAV, the channel for a single user experiences the noise with power $N_0/M$. Thus, the signal-to-noise ratio of the link from the $k$th user to the UAV during the $n$th timeslot can be expressed as\n",
    "$$\\text{SNR}^\\text{UA}_{n,k}(r, c) = \\frac{P^\\text{A}_{n,k}}{N_0/M}$$"
   ]
  },
  {
   "cell_type": "code",
   "execution_count": 8,
   "id": "b163bccf-3e91-4c5e-90b5-23483f5328c7",
   "metadata": {},
   "outputs": [],
   "source": [
    "from math import log10\n",
    "\n",
    "BANDWIDTH = 1*10**6 # 1 MHz UAV/BS/GU bandwidth (from energy-efficiency paper)\n",
    "N0 = 10 ** ( (7.5 - 174 + 10 * log10(BANDWIDTH)) / 10 ) # Noise power in watts\n",
    "\n",
    "def SNRUA(n, r, c, wU):\n",
    "    return PA(n, r, c, wU) / (N0 / M)"
   ]
  },
  {
   "cell_type": "markdown",
   "id": "49e0b98c-1c00-4a1a-b50a-4b15130640c1",
   "metadata": {},
   "source": [
    "The signal-to-noise ratio of the UAV-to-BS link during the $n$th timeslot can be expressed\n",
    "$$\\text{SNR}^\\text{AB}_n(r, c) = \\frac{P^\\text{B}_n}{N_0}$$"
   ]
  },
  {
   "cell_type": "code",
   "execution_count": 9,
   "id": "2c9f236a-cf33-43a6-8c6b-03b308eb74c0",
   "metadata": {},
   "outputs": [],
   "source": [
    "def SNRAB(n, r, c):\n",
    "    return PB(n, r, c) / N0"
   ]
  },
  {
   "cell_type": "markdown",
   "id": "40009d2d-69cd-4573-a0ee-6be2630372b7",
   "metadata": {},
   "source": [
    "The spectral efficiency of the link from the $k$th user to the UAV during the $n$th timeslot is given by\n",
    "$$\\text{SE}^\\text{UA}_{n,k}(r, c) = \\log_2\\left(1 + \\text{SNR}^\\text{UA}_{n,k}\\right)$$"
   ]
  },
  {
   "cell_type": "code",
   "execution_count": 10,
   "id": "1ec4ccac-669e-4246-9f29-4c66a64ff80f",
   "metadata": {},
   "outputs": [],
   "source": [
    "from math import log2\n",
    "\n",
    "def SEUA(n, r, c, wU):\n",
    "    return log2(1 + SNRUA(n, r, c, wU))"
   ]
  },
  {
   "cell_type": "markdown",
   "id": "4ec9cdb9-8cde-4e13-b9d7-fa85b0f297cd",
   "metadata": {},
   "source": [
    "The spectral efficiency of the link from the UAV to the base station during the $n$th timeslot is given as\n",
    "$$\\text{SE}^\\text{AB}_n(r, c) = \\log_2\\left(1 + \\text{SNR}^\\text{AB}_n\\right)$$"
   ]
  },
  {
   "cell_type": "code",
   "execution_count": 11,
   "id": "853a47a5-96a8-4a37-b836-0c300ee2464a",
   "metadata": {},
   "outputs": [],
   "source": [
    "def SEAB(n, r, c):\n",
    "    return log2(1 + SNRAB(n, r, c))"
   ]
  },
  {
   "cell_type": "markdown",
   "id": "3c3e8d2b-877f-4187-943d-42b4b71502cf",
   "metadata": {},
   "source": [
    "We define $\\alpha$ as the proportion of each timeslot reserved for user-to-UAV transmission. The proportion of the timeslot reserved for UAV-to-BS transmission is $1-\\alpha$. \n",
    "\n",
    "The average achievable spectral efficiency of the relay system over the timeslots is then given as\n",
    "$$\\overline{\\text{SE}}(\\alpha, r, c) = \\frac{1}{N}\\sum_{n=0}^N \\min\\left[\\alpha \\cdot \\frac{1}{M}\\sum_{k\\in\\mathcal{U}_n}\\text{SE}^\\text{UA}_{n,k}\\;\\mathbf{,}\\;(1-\\alpha)\\cdot\\text{SE}^\\text{AB}_n\\right]$$"
   ]
  },
  {
   "cell_type": "code",
   "execution_count": 12,
   "id": "0fb9b084-11f8-48e5-8647-8298b7f77b77",
   "metadata": {},
   "outputs": [],
   "source": [
    "def meanSE(alpha, r, c):\n",
    "    users = generate_users()\n",
    "\n",
    "    total_se = 0\n",
    "\n",
    "    for n in range(N):\n",
    "        ua_se = 0\n",
    "\n",
    "        for _ in range(M):\n",
    "            ua_se += SEUA(n, r, c, users.pop())\n",
    "\n",
    "        ua_se *= (alpha / M)\n",
    "\n",
    "        ab_se = SEAB(n, r, c)\n",
    "        ab_se *= (1 - alpha)\n",
    "\n",
    "        total_se += min(ua_se, ab_se)\n",
    "\n",
    "    return total_se / N"
   ]
  },
  {
   "cell_type": "markdown",
   "id": "67e82064-8235-4553-96e4-3a22e4c3bdbd",
   "metadata": {},
   "source": [
    "Optimizing the problem with `scipy.optimize`"
   ]
  },
  {
   "cell_type": "code",
   "execution_count": 14,
   "id": "df1c162e-e16d-4db7-ac8e-aef593544d01",
   "metadata": {},
   "outputs": [
    {
     "name": "stdout",
     "output_type": "stream",
     "text": [
      "Optimal r: 601.3985806249214\n",
      "Maximum meanSE: 0.5141352389808574\n"
     ]
    }
   ],
   "source": [
    "from scipy.optimize import minimize_scalar\n",
    "\n",
    "def objective(r, alpha, c):\n",
    "    return -meanSE(alpha, r, c)\n",
    "\n",
    "r_min = 10\n",
    "r_max = 1000\n",
    "\n",
    "alpha = 0.5\n",
    "c = D/2\n",
    "\n",
    "result = minimize_scalar(objective, bounds=(r_min, r_max), args=(alpha, c), method='bounded')\n",
    "\n",
    "r_opt = result.x\n",
    "max_value = -result.fun  # Remember to negate back\n",
    "\n",
    "print(f\"Optimal r: {r_opt}\")\n",
    "print(f\"Maximum meanSE: {max_value}\")"
   ]
  },
  {
   "cell_type": "code",
   "execution_count": null,
   "id": "14b5163b-3fe7-4461-955f-7fcbb94bdce9",
   "metadata": {},
   "outputs": [],
   "source": []
  }
 ],
 "metadata": {
  "kernelspec": {
   "display_name": "Python 3 (ipykernel)",
   "language": "python",
   "name": "python3"
  },
  "language_info": {
   "codemirror_mode": {
    "name": "ipython",
    "version": 3
   },
   "file_extension": ".py",
   "mimetype": "text/x-python",
   "name": "python",
   "nbconvert_exporter": "python",
   "pygments_lexer": "ipython3",
   "version": "3.12.1"
  }
 },
 "nbformat": 4,
 "nbformat_minor": 5
}
